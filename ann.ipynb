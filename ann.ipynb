{
 "cells": [
  {
   "cell_type": "code",
   "execution_count": 2,
   "metadata": {},
   "outputs": [
    {
     "data": {
      "text/html": [
       "<div>\n",
       "<style scoped>\n",
       "    .dataframe tbody tr th:only-of-type {\n",
       "        vertical-align: middle;\n",
       "    }\n",
       "\n",
       "    .dataframe tbody tr th {\n",
       "        vertical-align: top;\n",
       "    }\n",
       "\n",
       "    .dataframe thead th {\n",
       "        text-align: right;\n",
       "    }\n",
       "</style>\n",
       "<table border=\"1\" class=\"dataframe\">\n",
       "  <thead>\n",
       "    <tr style=\"text-align: right;\">\n",
       "      <th></th>\n",
       "      <th>time</th>\n",
       "      <th>open</th>\n",
       "      <th>high</th>\n",
       "      <th>low</th>\n",
       "      <th>upstop</th>\n",
       "      <th>downstop</th>\n",
       "      <th>volume</th>\n",
       "      <th>money</th>\n",
       "      <th>close</th>\n",
       "    </tr>\n",
       "  </thead>\n",
       "  <tbody>\n",
       "    <tr>\n",
       "      <th>0</th>\n",
       "      <td>2008/4/1</td>\n",
       "      <td>4.5120</td>\n",
       "      <td>4.6280</td>\n",
       "      <td>4.1830</td>\n",
       "      <td>5.0948</td>\n",
       "      <td>4.1674</td>\n",
       "      <td>79590208.00</td>\n",
       "      <td>15060965</td>\n",
       "      <td>4.1987</td>\n",
       "    </tr>\n",
       "    <tr>\n",
       "      <th>1</th>\n",
       "      <td>2008/4/2</td>\n",
       "      <td>4.2864</td>\n",
       "      <td>4.4494</td>\n",
       "      <td>4.0734</td>\n",
       "      <td>4.6186</td>\n",
       "      <td>3.7788</td>\n",
       "      <td>76471291.39</td>\n",
       "      <td>14879058</td>\n",
       "      <td>4.1830</td>\n",
       "    </tr>\n",
       "    <tr>\n",
       "      <th>2</th>\n",
       "      <td>2008/4/3</td>\n",
       "      <td>4.1830</td>\n",
       "      <td>4.3710</td>\n",
       "      <td>4.1517</td>\n",
       "      <td>4.6029</td>\n",
       "      <td>3.7663</td>\n",
       "      <td>34263183.34</td>\n",
       "      <td>6639563</td>\n",
       "      <td>4.3616</td>\n",
       "    </tr>\n",
       "    <tr>\n",
       "      <th>3</th>\n",
       "      <td>2008/4/7</td>\n",
       "      <td>4.3240</td>\n",
       "      <td>4.6436</td>\n",
       "      <td>4.2864</td>\n",
       "      <td>4.7972</td>\n",
       "      <td>3.9261</td>\n",
       "      <td>53019075.67</td>\n",
       "      <td>9670526</td>\n",
       "      <td>4.6374</td>\n",
       "    </tr>\n",
       "    <tr>\n",
       "      <th>4</th>\n",
       "      <td>2008/4/8</td>\n",
       "      <td>4.6342</td>\n",
       "      <td>4.7502</td>\n",
       "      <td>4.5590</td>\n",
       "      <td>5.1011</td>\n",
       "      <td>4.1736</td>\n",
       "      <td>69737541.28</td>\n",
       "      <td>12327786</td>\n",
       "      <td>4.6969</td>\n",
       "    </tr>\n",
       "  </tbody>\n",
       "</table>\n",
       "</div>"
      ],
      "text/plain": [
       "       time    open    high     low  upstop  downstop       volume     money  \\\n",
       "0  2008/4/1  4.5120  4.6280  4.1830  5.0948    4.1674  79590208.00  15060965   \n",
       "1  2008/4/2  4.2864  4.4494  4.0734  4.6186    3.7788  76471291.39  14879058   \n",
       "2  2008/4/3  4.1830  4.3710  4.1517  4.6029    3.7663  34263183.34   6639563   \n",
       "3  2008/4/7  4.3240  4.6436  4.2864  4.7972    3.9261  53019075.67   9670526   \n",
       "4  2008/4/8  4.6342  4.7502  4.5590  5.1011    4.1736  69737541.28  12327786   \n",
       "\n",
       "    close  \n",
       "0  4.1987  \n",
       "1  4.1830  \n",
       "2  4.3616  \n",
       "3  4.6374  \n",
       "4  4.6969  "
      ]
     },
     "execution_count": 2,
     "metadata": {},
     "output_type": "execute_result"
    }
   ],
   "source": [
    "import numpy as np\n",
    "import pandas as pd\n",
    "import matplotlib.pyplot as plt\n",
    "data0 = pd.read_csv('data.csv')  # 读取训练数据\n",
    "data0.head()"
   ]
  },
  {
   "cell_type": "code",
   "execution_count": 3,
   "metadata": {},
   "outputs": [
    {
     "data": {
      "text/html": [
       "<div>\n",
       "<style scoped>\n",
       "    .dataframe tbody tr th:only-of-type {\n",
       "        vertical-align: middle;\n",
       "    }\n",
       "\n",
       "    .dataframe tbody tr th {\n",
       "        vertical-align: top;\n",
       "    }\n",
       "\n",
       "    .dataframe thead th {\n",
       "        text-align: right;\n",
       "    }\n",
       "</style>\n",
       "<table border=\"1\" class=\"dataframe\">\n",
       "  <thead>\n",
       "    <tr style=\"text-align: right;\">\n",
       "      <th></th>\n",
       "      <th>open</th>\n",
       "      <th>high</th>\n",
       "      <th>low</th>\n",
       "      <th>upstop</th>\n",
       "      <th>downstop</th>\n",
       "      <th>volume</th>\n",
       "      <th>money</th>\n",
       "      <th>close</th>\n",
       "    </tr>\n",
       "  </thead>\n",
       "  <tbody>\n",
       "    <tr>\n",
       "      <th>2499</th>\n",
       "      <td>0.884252</td>\n",
       "      <td>0.941562</td>\n",
       "      <td>0.950832</td>\n",
       "      <td>0.896537</td>\n",
       "      <td>0.896949</td>\n",
       "      <td>0.505236</td>\n",
       "      <td>0.185197</td>\n",
       "      <td>1.000000</td>\n",
       "    </tr>\n",
       "    <tr>\n",
       "      <th>2500</th>\n",
       "      <td>0.960763</td>\n",
       "      <td>1.000000</td>\n",
       "      <td>1.000000</td>\n",
       "      <td>1.000000</td>\n",
       "      <td>1.000000</td>\n",
       "      <td>0.000000</td>\n",
       "      <td>0.385611</td>\n",
       "      <td>0.984212</td>\n",
       "    </tr>\n",
       "    <tr>\n",
       "      <th>2501</th>\n",
       "      <td>1.000000</td>\n",
       "      <td>0.956482</td>\n",
       "      <td>0.937487</td>\n",
       "      <td>0.984451</td>\n",
       "      <td>0.983921</td>\n",
       "      <td>0.609463</td>\n",
       "      <td>0.269785</td>\n",
       "      <td>0.923693</td>\n",
       "    </tr>\n",
       "    <tr>\n",
       "      <th>2502</th>\n",
       "      <td>0.873135</td>\n",
       "      <td>0.841470</td>\n",
       "      <td>0.876378</td>\n",
       "      <td>0.924048</td>\n",
       "      <td>0.923991</td>\n",
       "      <td>0.554306</td>\n",
       "      <td>0.247982</td>\n",
       "      <td>0.819100</td>\n",
       "    </tr>\n",
       "    <tr>\n",
       "      <th>2503</th>\n",
       "      <td>0.814280</td>\n",
       "      <td>0.861364</td>\n",
       "      <td>0.877783</td>\n",
       "      <td>0.819389</td>\n",
       "      <td>0.818748</td>\n",
       "      <td>0.563218</td>\n",
       "      <td>0.253455</td>\n",
       "      <td>0.915142</td>\n",
       "    </tr>\n",
       "  </tbody>\n",
       "</table>\n",
       "</div>"
      ],
      "text/plain": [
       "          open      high       low    upstop  downstop    volume     money  \\\n",
       "2499  0.884252  0.941562  0.950832  0.896537  0.896949  0.505236  0.185197   \n",
       "2500  0.960763  1.000000  1.000000  1.000000  1.000000  0.000000  0.385611   \n",
       "2501  1.000000  0.956482  0.937487  0.984451  0.983921  0.609463  0.269785   \n",
       "2502  0.873135  0.841470  0.876378  0.924048  0.923991  0.554306  0.247982   \n",
       "2503  0.814280  0.861364  0.877783  0.819389  0.818748  0.563218  0.253455   \n",
       "\n",
       "         close  \n",
       "2499  1.000000  \n",
       "2500  0.984212  \n",
       "2501  0.923693  \n",
       "2502  0.819100  \n",
       "2503  0.915142  "
      ]
     },
     "execution_count": 3,
     "metadata": {},
     "output_type": "execute_result"
    }
   ],
   "source": [
    "feat=8\n",
    "data=data0.iloc[:,1:]\n",
    "yy=data0.iloc[:,feat:]#切片是前闭后开[)\n",
    "data=(data - data.min()) / (data.max() - data.min())\n",
    "data.tail()"
   ]
  },
  {
   "cell_type": "code",
   "execution_count": 4,
   "metadata": {},
   "outputs": [
    {
     "name": "stdout",
     "output_type": "stream",
     "text": [
      "(2503, 8)\n",
      "(2503, 1)\n"
     ]
    }
   ],
   "source": [
    "X=data.iloc[:-1,:]\n",
    "y=data.iloc[1:,feat-1:feat]#切片是前闭后开[)\n",
    "print(X.shape)\n",
    "print(y.shape)"
   ]
  },
  {
   "cell_type": "code",
   "execution_count": 5,
   "metadata": {},
   "outputs": [
    {
     "name": "stdout",
     "output_type": "stream",
     "text": [
      "(2503, 8)\n",
      "(2503, 1)\n"
     ]
    },
    {
     "name": "stderr",
     "output_type": "stream",
     "text": [
      "E:\\anoconda\\envs\\tensorflow\\lib\\site-packages\\ipykernel_launcher.py:1: SettingWithCopyWarning: \n",
      "A value is trying to be set on a copy of a slice from a DataFrame.\n",
      "Try using .loc[row_indexer,col_indexer] = value instead\n",
      "\n",
      "See the caveats in the documentation: http://pandas.pydata.org/pandas-docs/stable/indexing.html#indexing-view-versus-copy\n",
      "  \"\"\"Entry point for launching an IPython kernel.\n"
     ]
    }
   ],
   "source": [
    "X['goal'] = y.values\n",
    "x=X.iloc[:,:feat]\n",
    "y=X.iloc[:,feat:feat+1]\n",
    "print(x.shape)\n",
    "print(y.shape)"
   ]
  },
  {
   "cell_type": "code",
   "execution_count": 6,
   "metadata": {},
   "outputs": [
    {
     "name": "stdout",
     "output_type": "stream",
     "text": [
      "18016\n",
      "2008\n",
      "2252\n",
      "251\n"
     ]
    }
   ],
   "source": [
    "cut=len(y)*9//10\n",
    "X_train, X_test=x.iloc[:cut],x.iloc[cut:]#列表的切片操作，X.iloc[0:2400，0:7]即为1-2400行，1-7列\n",
    "y_train, y_test=y.iloc[:cut],y.iloc[cut:]\n",
    "print(X_train.size)#通过输出训练集测试集的大小来判断数据格式正确。\n",
    "print(X_test.size)\n",
    "print(y_train.size)\n",
    "print(y_test.size)"
   ]
  },
  {
   "cell_type": "code",
   "execution_count": 7,
   "metadata": {},
   "outputs": [
    {
     "name": "stdout",
     "output_type": "stream",
     "text": [
      "[[0.15719536 0.15313982 0.14890778 ... 0.28840062 0.03529257 0.13751661]\n",
      " [0.14244235 0.14203652 0.14120952 ... 0.28783939 0.03485327 0.13648384]\n",
      " [0.13568056 0.1371625  0.14670928 ... 0.28024429 0.01495514 0.14823245]\n",
      " ...\n",
      " [0.31803973 0.30308418 0.34203133 ... 0.29206195 0.03261979 0.32120538]\n",
      " [0.31931493 0.30369343 0.34408934 ... 0.28842987 0.02577164 0.32185004]\n",
      " [0.32059012 0.30490572 0.34614736 ... 0.29290488 0.03392982 0.32506019]]\n",
      "[[0.13648384]\n",
      " [0.14823245]\n",
      " [0.16637503]\n",
      " ...\n",
      " [0.32185004]\n",
      " [0.32506019]\n",
      " [0.32377745]]\n"
     ]
    }
   ],
   "source": [
    "X_train,X_test,y_train,y_test=X_train.values,X_test.values,y_train.values,y_test.values\n",
    "#X=X.values#将Pandas中的dataframe转成numpy中的array，（转化成数组）才能进行多元线性回归的计算\n",
    "#y=y.values\n",
    "print(X_train)\n",
    "print(y_train)"
   ]
  },
  {
   "cell_type": "code",
   "execution_count": 8,
   "metadata": {},
   "outputs": [
    {
     "name": "stderr",
     "output_type": "stream",
     "text": [
      "E:\\anoconda\\envs\\tensorflow\\lib\\site-packages\\tensorflow\\python\\framework\\dtypes.py:516: FutureWarning: Passing (type, 1) or '1type' as a synonym of type is deprecated; in a future version of numpy, it will be understood as (type, (1,)) / '(1,)type'.\n",
      "  _np_qint8 = np.dtype([(\"qint8\", np.int8, 1)])\n",
      "E:\\anoconda\\envs\\tensorflow\\lib\\site-packages\\tensorflow\\python\\framework\\dtypes.py:517: FutureWarning: Passing (type, 1) or '1type' as a synonym of type is deprecated; in a future version of numpy, it will be understood as (type, (1,)) / '(1,)type'.\n",
      "  _np_quint8 = np.dtype([(\"quint8\", np.uint8, 1)])\n",
      "E:\\anoconda\\envs\\tensorflow\\lib\\site-packages\\tensorflow\\python\\framework\\dtypes.py:518: FutureWarning: Passing (type, 1) or '1type' as a synonym of type is deprecated; in a future version of numpy, it will be understood as (type, (1,)) / '(1,)type'.\n",
      "  _np_qint16 = np.dtype([(\"qint16\", np.int16, 1)])\n",
      "E:\\anoconda\\envs\\tensorflow\\lib\\site-packages\\tensorflow\\python\\framework\\dtypes.py:519: FutureWarning: Passing (type, 1) or '1type' as a synonym of type is deprecated; in a future version of numpy, it will be understood as (type, (1,)) / '(1,)type'.\n",
      "  _np_quint16 = np.dtype([(\"quint16\", np.uint16, 1)])\n",
      "E:\\anoconda\\envs\\tensorflow\\lib\\site-packages\\tensorflow\\python\\framework\\dtypes.py:520: FutureWarning: Passing (type, 1) or '1type' as a synonym of type is deprecated; in a future version of numpy, it will be understood as (type, (1,)) / '(1,)type'.\n",
      "  _np_qint32 = np.dtype([(\"qint32\", np.int32, 1)])\n",
      "E:\\anoconda\\envs\\tensorflow\\lib\\site-packages\\tensorflow\\python\\framework\\dtypes.py:525: FutureWarning: Passing (type, 1) or '1type' as a synonym of type is deprecated; in a future version of numpy, it will be understood as (type, (1,)) / '(1,)type'.\n",
      "  np_resource = np.dtype([(\"resource\", np.ubyte, 1)])\n",
      "E:\\anoconda\\envs\\tensorflow\\lib\\site-packages\\h5py\\__init__.py:36: FutureWarning: Conversion of the second argument of issubdtype from `float` to `np.floating` is deprecated. In future, it will be treated as `np.float64 == np.dtype(float).type`.\n",
      "  from ._conv import register_converters as _register_converters\n",
      "E:\\anoconda\\envs\\tensorflow\\lib\\site-packages\\tensorboard\\compat\\tensorflow_stub\\dtypes.py:541: FutureWarning: Passing (type, 1) or '1type' as a synonym of type is deprecated; in a future version of numpy, it will be understood as (type, (1,)) / '(1,)type'.\n",
      "  _np_qint8 = np.dtype([(\"qint8\", np.int8, 1)])\n",
      "E:\\anoconda\\envs\\tensorflow\\lib\\site-packages\\tensorboard\\compat\\tensorflow_stub\\dtypes.py:542: FutureWarning: Passing (type, 1) or '1type' as a synonym of type is deprecated; in a future version of numpy, it will be understood as (type, (1,)) / '(1,)type'.\n",
      "  _np_quint8 = np.dtype([(\"quint8\", np.uint8, 1)])\n",
      "E:\\anoconda\\envs\\tensorflow\\lib\\site-packages\\tensorboard\\compat\\tensorflow_stub\\dtypes.py:543: FutureWarning: Passing (type, 1) or '1type' as a synonym of type is deprecated; in a future version of numpy, it will be understood as (type, (1,)) / '(1,)type'.\n",
      "  _np_qint16 = np.dtype([(\"qint16\", np.int16, 1)])\n",
      "E:\\anoconda\\envs\\tensorflow\\lib\\site-packages\\tensorboard\\compat\\tensorflow_stub\\dtypes.py:544: FutureWarning: Passing (type, 1) or '1type' as a synonym of type is deprecated; in a future version of numpy, it will be understood as (type, (1,)) / '(1,)type'.\n",
      "  _np_quint16 = np.dtype([(\"quint16\", np.uint16, 1)])\n",
      "E:\\anoconda\\envs\\tensorflow\\lib\\site-packages\\tensorboard\\compat\\tensorflow_stub\\dtypes.py:545: FutureWarning: Passing (type, 1) or '1type' as a synonym of type is deprecated; in a future version of numpy, it will be understood as (type, (1,)) / '(1,)type'.\n",
      "  _np_qint32 = np.dtype([(\"qint32\", np.int32, 1)])\n",
      "E:\\anoconda\\envs\\tensorflow\\lib\\site-packages\\tensorboard\\compat\\tensorflow_stub\\dtypes.py:550: FutureWarning: Passing (type, 1) or '1type' as a synonym of type is deprecated; in a future version of numpy, it will be understood as (type, (1,)) / '(1,)type'.\n",
      "  np_resource = np.dtype([(\"resource\", np.ubyte, 1)])\n",
      "WARNING: Logging before flag parsing goes to stderr.\n",
      "W0102 11:24:34.396285 18388 deprecation.py:323] From <ipython-input-8-b8da7ae0da75>:10: dense (from tensorflow.python.layers.core) is deprecated and will be removed in a future version.\n",
      "Instructions for updating:\n",
      "Use keras.layers.dense instead.\n",
      "W0102 11:24:34.402243 18388 deprecation.py:506] From E:\\anoconda\\envs\\tensorflow\\lib\\site-packages\\tensorflow\\python\\ops\\init_ops.py:1251: calling VarianceScaling.__init__ (from tensorflow.python.ops.init_ops) with dtype is deprecated and will be removed in a future version.\n",
      "Instructions for updating:\n",
      "Call initializer instance with the dtype argument instead of passing it to the constructor\n",
      "W0102 11:24:35.474128 18388 deprecation.py:323] From E:\\anoconda\\envs\\tensorflow\\lib\\site-packages\\tensorflow\\python\\ops\\losses\\losses_impl.py:121: add_dispatch_support.<locals>.wrapper (from tensorflow.python.ops.array_ops) is deprecated and will be removed in a future version.\n",
      "Instructions for updating:\n",
      "Use tf.where in 2.0, which has the same broadcast rule as np.where\n"
     ]
    },
    {
     "data": {
      "text/plain": [
       "[<matplotlib.lines.Line2D at 0x17339eb3518>]"
      ]
     },
     "execution_count": 8,
     "metadata": {},
     "output_type": "execute_result"
    },
    {
     "data": {
      "image/png": "[encoded data removed]",
      "text/plain": [
       "<Figure size 432x288 with 1 Axes>"
      ]
     },
     "metadata": {},
     "output_type": "display_data"
    }
   ],
   "source": [
    "import tensorflow as tf\n",
    "tf.reset_default_graph()\n",
    "I=np.array(0)\n",
    "record=np.array(0)\n",
    "BATCH_SIZE = 256\n",
    "tf_x = tf.placeholder(tf.float32, [None,feat])     # input x\n",
    "tf_y = tf.placeholder(tf.float32, [None,1])     # input y\n",
    "\n",
    "# neural network layers\n",
    "l1 = tf.layers.dense(tf_x, 512, tf.nn.relu)          # hidden layer\n",
    "l2=  tf.layers.dense(l1, 512, tf.nn.relu)\n",
    "l3=  tf.layers.dense(l2, 512, tf.nn.relu)\n",
    "output = tf.layers.dense(l3, 1)   \n",
    "# output layer\n",
    "\n",
    "loss = tf.losses.mean_squared_error(tf_y, output)   # compute cost\n",
    "optimizer = tf.train.GradientDescentOptimizer(learning_rate=0.1)#学习率\n",
    "train_op = optimizer.minimize(loss)\n",
    "\n",
    "sess = tf.Session()                                 # control training and others\n",
    "sess.run(tf.global_variables_initializer())         # initialize var in graph\n",
    "\n",
    "I=np.array(0)\n",
    "M=np.array(0)\n",
    "for i in range(50):#0-1000循环\n",
    "    start = (i*BATCH_SIZE)\n",
    "    end = start + BATCH_SIZE\n",
    "    sess.run([train_op, loss, output],feed_dict={tf_x: X_train[start:end], tf_y: y_train[start:end]})   \n",
    "    total_loss = sess.run(loss, feed_dict={tf_x: X_train, tf_y: y_train})\n",
    "    I=np.append(I, [i])    \n",
    "    M=np.append(M, [total_loss]) \n",
    "plt.plot(I[1:],M[1:])"
   ]
  },
  {
   "cell_type": "code",
   "execution_count": 9,
   "metadata": {},
   "outputs": [],
   "source": [
    "y_train_predict=sess.run(output,{tf_x:X_train})[:,0]\n",
    "y_train=y_train[:,0]"
   ]
  },
  {
   "cell_type": "code",
   "execution_count": 10,
   "metadata": {},
   "outputs": [
    {
     "name": "stdout",
     "output_type": "stream",
     "text": [
      "在训练集上的表现:\n"
     ]
    },
    {
     "data": {
      "image/png": "[encoded data removed]",
      "text/plain": [
       "<Figure size 432x288 with 1 Axes>"
      ]
     },
     "metadata": {},
     "output_type": "display_data"
    }
   ],
   "source": [
    "plt.plot(y_train_predict[100:200],color='red', label='predict')\n",
    "plt.plot(y_train[100:200],color='blue', label='train')\n",
    "plt.legend(loc='upper left')\n",
    "print('在训练集上的表现:')\n",
    "plt.show()"
   ]
  },
  {
   "cell_type": "code",
   "execution_count": 11,
   "metadata": {},
   "outputs": [
    {
     "data": {
      "text/plain": [
       "<matplotlib.legend.Legend at 0x1733c2c4898>"
      ]
     },
     "execution_count": 11,
     "metadata": {},
     "output_type": "execute_result"
    },
    {
     "data": {
      "image/png": "[encoded data removed]",
      "text/plain": [
       "<Figure size 1296x216 with 1 Axes>"
      ]
     },
     "metadata": {},
     "output_type": "display_data"
    }
   ],
   "source": [
    "draw=pd.concat([pd.DataFrame(y_train),pd.DataFrame(y_train_predict)],axis=1)\n",
    "draw.iloc[100:200,0].plot(figsize=(18,3))\n",
    "draw.iloc[100:200,1].plot(figsize=(18,3))\n",
    "plt.legend(('real', 'predict'),loc='upper right')\n",
    "#展示在训练集上的表现 图更好看"
   ]
  },
  {
   "cell_type": "code",
   "execution_count": 12,
   "metadata": {},
   "outputs": [],
   "source": [
    "y_test_predict=sess.run(output,{tf_x:X_test})[:,0]\n",
    "y_test=y_test[:,0]"
   ]
  },
  {
   "cell_type": "code",
   "execution_count": 13,
   "metadata": {},
   "outputs": [
    {
     "data": {
      "image/png": "[encoded data removed]",
      "text/plain": [
       "<Figure size 432x288 with 1 Axes>"
      ]
     },
     "metadata": {},
     "output_type": "display_data"
    }
   ],
   "source": [
    "plt.plot(y_test, 'b', label='origin line')\n",
    "plt.plot(y_test_predict, 'r', label='fixed line')\n",
    "plt.legend()\n",
    "plt.show()\n",
    "#展示在测试集上的表现 "
   ]
  },
  {
   "cell_type": "code",
   "execution_count": 14,
   "metadata": {},
   "outputs": [
    {
     "data": {
      "text/plain": [
       "Text(0.5,1,'ANN')"
      ]
     },
     "execution_count": 14,
     "metadata": {},
     "output_type": "execute_result"
    },
    {
     "data": {
      "image/png": "[encoded data removed]",
      "text/plain": [
       "<Figure size 1296x216 with 1 Axes>"
      ]
     },
     "metadata": {},
     "output_type": "display_data"
    }
   ],
   "source": [
    "draw=pd.concat([pd.DataFrame(y_test),pd.DataFrame(y_test_predict)],axis=1);\n",
    "draw.iloc[:,0].plot(figsize=(18,3))\n",
    "draw.iloc[:,1].plot(figsize=(18,3))\n",
    "plt.legend(('real', 'predict'),loc='upper right')\n",
    "plt.title(\"ANN\",fontsize='15') #添加标题\n",
    "#展示在测试集上的表现 图更好看"
   ]
  },
  {
   "cell_type": "code",
   "execution_count": 15,
   "metadata": {},
   "outputs": [
    {
     "name": "stdout",
     "output_type": "stream",
     "text": [
      "0.06525898025321951\n",
      "0.007192225029526703\n"
     ]
    }
   ],
   "source": [
    "from sklearn.metrics import mean_absolute_error\n",
    "from sklearn.metrics import mean_squared_error\n",
    "print(mean_absolute_error(y_train_predict, y_train))\n",
    "print(mean_squared_error(y_train_predict, y_train) )\n",
    "#训练集上的MAE和MSE"
   ]
  },
  {
   "cell_type": "code",
   "execution_count": 16,
   "metadata": {},
   "outputs": [
    {
     "name": "stdout",
     "output_type": "stream",
     "text": [
      "0.0804194798666358\n",
      "0.01622123228673302\n"
     ]
    }
   ],
   "source": [
    "print(mean_absolute_error(y_test_predict, y_test))\n",
    "print(mean_squared_error(y_test_predict, y_test) )\n",
    "#测试集上的MAE和MSE"
   ]
  },
  {
   "cell_type": "code",
   "execution_count": 17,
   "metadata": {},
   "outputs": [
    {
     "name": "stdout",
     "output_type": "stream",
     "text": [
      "预测涨跌正确: 0.488\n"
     ]
    }
   ],
   "source": [
    "y_var_test=y_test[1:]-y_test[:len(y_test)-1]\n",
    "y_var_predict=y_test_predict[1:]-y_test_predict[:len(y_test_predict)-1]\n",
    "txt=np.zeros(len(y_var_test))\n",
    "for i in range(len(y_var_test-1)):\n",
    "    txt[i]=np.sign(y_var_test[i])==np.sign(y_var_predict[i])\n",
    "result=sum(txt)/len(txt)\n",
    "print('预测涨跌正确:',result)"
   ]
  },
  {
   "cell_type": "code",
   "execution_count": null,
   "metadata": {},
   "outputs": [],
   "source": []
  },
  {
   "cell_type": "code",
   "execution_count": null,
   "metadata": {},
   "outputs": [],
   "source": []
  },
  {
   "cell_type": "code",
   "execution_count": null,
   "metadata": {},
   "outputs": [],
   "source": []
  },
  {
   "cell_type": "code",
   "execution_count": null,
   "metadata": {},
   "outputs": [],
   "source": []
  }
 ],
 "metadata": {
  "kernelspec": {
   "display_name": "Python 3",
   "language": "python",
   "name": "python3"
  },
  "language_info": {
   "codemirror_mode": {
    "name": "ipython",
    "version": 3
   },
   "file_extension": ".py",
   "mimetype": "text/x-python",
   "name": "python",
   "nbconvert_exporter": "python",
   "pygments_lexer": "ipython3",
   "version": "3.5.5"
  }
 },
 "nbformat": 4,
 "nbformat_minor": 2
}
